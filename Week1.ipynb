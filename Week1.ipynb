{
 "cells": [
  {
   "cell_type": "code",
   "execution_count": 3,
   "id": "ce8795c3",
   "metadata": {},
   "outputs": [
    {
     "name": "stdout",
     "output_type": "stream",
     "text": [
      "8\n",
      "10\n",
      "12\n",
      "14\n"
     ]
    }
   ],
   "source": [
    "i = 8\n",
    "while i <= 14:\n",
    "    print(i)\n",
    "    i+=2\n",
    "    "
   ]
  },
  {
   "cell_type": "code",
   "execution_count": 9,
   "id": "5acbdf0a",
   "metadata": {},
   "outputs": [
    {
     "name": "stdout",
     "output_type": "stream",
     "text": [
      "[ 42  45 -25 -37  39] [40, 43, -24, -36, 37]\n"
     ]
    }
   ],
   "source": [
    "import numpy as np\n",
    "\n",
    "randnums = np.random.randint(-50,51,5)\n",
    "my_vect = []\n",
    "for x in randnums:\n",
    "    if x > 0: x = x-2\n",
    "    elif x < 0: x = x+1\n",
    "    else: x = 51\n",
    "    my_vect.append(x)\n",
    "print(randnums, my_vect)"
   ]
  },
  {
   "cell_type": "code",
   "execution_count": 37,
   "id": "295b37bf",
   "metadata": {},
   "outputs": [
    {
     "name": "stdout",
     "output_type": "stream",
     "text": [
      "df1\n",
      "\n",
      "  C1  C2    C3\n",
      "0  a   1  Blue\n",
      "1  a   2  Blue\n",
      "2  b   3  Blue\n",
      "3  b   3   Red\n",
      "4  c   4   Red\n",
      "5  c   5  Blue\n",
      "\n",
      "df2\n",
      "\n",
      "  C1  C2    C3\n",
      "0  a   1  Blue\n",
      "1  a   2  Blue\n",
      "2  b   3  Blue\n",
      "5  c   5  Blue\n",
      "\n",
      "df3\n",
      "\n",
      "    C2\n",
      "C1    \n",
      "a    3\n",
      "b    3\n",
      "c    5\n"
     ]
    }
   ],
   "source": [
    "import pandas as pd\n",
    "\n",
    "df1 = pd.DataFrame({\"C1\": [\"a\",\"a\",\"b\",\"b\",\"c\",\"c\"],\n",
    "                  \"C2\": [1,2,3,3,4,5],\n",
    "                  \"C3\": [\"Blue\",\"Blue\",\"Blue\",\"Red\",\"Red\",\"Blue\"]})\n",
    "df2 = df1[df1.C3 == \"Blue\"]\n",
    "df3 = df2.groupby(['C1']).sum()\n",
    "print(\"df1\",df1, \"df2\",df2, \"df3\",df3, sep = '\\n\\n')\n"
   ]
  },
  {
   "cell_type": "code",
   "execution_count": null,
   "id": "f92032c0",
   "metadata": {},
   "outputs": [],
   "source": []
  }
 ],
 "metadata": {
  "kernelspec": {
   "display_name": "Python 3 (ipykernel)",
   "language": "python",
   "name": "python3"
  },
  "language_info": {
   "codemirror_mode": {
    "name": "ipython",
    "version": 3
   },
   "file_extension": ".py",
   "mimetype": "text/x-python",
   "name": "python",
   "nbconvert_exporter": "python",
   "pygments_lexer": "ipython3",
   "version": "3.9.7"
  }
 },
 "nbformat": 4,
 "nbformat_minor": 5
}
